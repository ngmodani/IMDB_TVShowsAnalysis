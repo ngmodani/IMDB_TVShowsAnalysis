{
 "cells": [
  {
   "cell_type": "code",
   "execution_count": 4,
   "metadata": {
    "collapsed": false
   },
   "outputs": [],
   "source": [
    "from bs4 import BeautifulSoup\n",
    "import json\n",
    "import os\n",
    "import time\n",
    "import requests"
   ]
  },
  {
   "cell_type": "code",
   "execution_count": 3,
   "metadata": {
    "collapsed": false
   },
   "outputs": [],
   "source": [
    "# get IMDB top 250 TV shows\n",
    "imdb_page = requests.get(\"http://www.imdb.com/chart/toptv/\")\n",
    "html_doc = imdb_page.text\n",
    "soup = BeautifulSoup(html_doc, 'html.parser')"
   ]
  },
  {
   "cell_type": "code",
   "execution_count": 18,
   "metadata": {
    "collapsed": false
   },
   "outputs": [],
   "source": [
    "# extract imdb ID of top 250 TV shows\n",
    "tv_show_imdb_ids = []\n",
    "for link in soup.find_all('a'):\n",
    "    href = link.get('href')\n",
    "    if str(href).startswith(\"/title/tt\"):\n",
    "        get_imdb_id = href.split('/')\n",
    "        tv_show_imdb_ids.append(get_imdb_id[2])\n",
    "# list of unique IMDB IDs\n",
    "tv_show_imdb_ids = list(set(tv_show_imdb_ids))"
   ]
  },
  {
   "cell_type": "code",
   "execution_count": 56,
   "metadata": {
    "collapsed": true
   },
   "outputs": [],
   "source": [
    "os.mkdir('data/tv_shows')"
   ]
  },
  {
   "cell_type": "code",
   "execution_count": 57,
   "metadata": {
    "collapsed": false
   },
   "outputs": [],
   "source": [
    "count = 0\n",
    "for imdb_id in tv_show_imdb_ids:\n",
    "    payload={}\n",
    "    payload['imdb']=imdb_id\n",
    "    tv_show_response = requests.get(\"http://api.tvmaze.com/lookup/shows\",params=payload)\n",
    "    if count < 17:\n",
    "        if tv_show_response.ok:\n",
    "            tv_show_response = tv_show_response.json()\n",
    "            show_id = tv_show_response['id']\n",
    "            #show_name = tv_show_response['name']\n",
    "            show_url = tv_show_response['url']\n",
    "            url = show_url.split(\"/\")\n",
    "            show_name = url[-1]\n",
    "            file_name = \"data/tv_shows/\"+str(show_id)+\"_\"+show_name\n",
    "            os.mkdir(file_name)\n",
    "            # creating json file for show\n",
    "            with open(file_name+\"/show.json\",'w') as f:\n",
    "                json.dump(tv_show_response,f)\n",
    "                f.close()\n",
    "            # fetching & creating json file for show's cast\n",
    "            url_cast = \"http://api.tvmaze.com/shows/\"+str(show_id)+\"/cast\"\n",
    "            cast_json_response = requests.get(url_cast)\n",
    "            cast_json_response = cast_json_response.json() \n",
    "            with open(file_name+\"/cast.json\",'w') as f:\n",
    "                json.dump(cast_json_response,f)\n",
    "                f.close()\n",
    "            # fetching & creating json file for show's episodes\n",
    "            url_epsiode = \"http://api.tvmaze.com/shows/\"+str(show_id)+\"/episodes\"\n",
    "            episode_json_response = requests.get(url_epsiode)\n",
    "            episode_json_response = episode_json_response.json()\n",
    "            with open(file_name+\"/episodes.json\",'w') as f:\n",
    "                json.dump(episode_json_response,f)\n",
    "                f.close()\n",
    "            count = count + 3\n",
    "    else:\n",
    "        count = 0\n",
    "        # API call is limited to 20 calls per 10 sec so using sleep\n",
    "        time.sleep(10)\n",
    "        "
   ]
  },
  {
   "cell_type": "code",
   "execution_count": null,
   "metadata": {
    "collapsed": true
   },
   "outputs": [],
   "source": []
  }
 ],
 "metadata": {
  "kernelspec": {
   "display_name": "Python 3",
   "language": "python",
   "name": "python3"
  },
  "language_info": {
   "codemirror_mode": {
    "name": "ipython",
    "version": 3
   },
   "file_extension": ".py",
   "mimetype": "text/x-python",
   "name": "python",
   "nbconvert_exporter": "python",
   "pygments_lexer": "ipython3",
   "version": "3.5.1"
  }
 },
 "nbformat": 4,
 "nbformat_minor": 0
}
